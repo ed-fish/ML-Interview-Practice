{
  "nbformat": 4,
  "nbformat_minor": 0,
  "metadata": {
    "colab": {
      "name": "ML Interview Practice",
      "provenance": [],
      "toc_visible": true
    },
    "kernelspec": {
      "name": "python3",
      "display_name": "Python 3"
    },
    "language_info": {
      "name": "python"
    }
  },
  "cells": [
    {
      "cell_type": "markdown",
      "metadata": {
        "id": "TA-u7b80rqFE"
      },
      "source": [
        "# 5.1.1 Vectors"
      ]
    },
    {
      "cell_type": "markdown",
      "metadata": {
        "id": "9jScbZ8mrwXN"
      },
      "source": [
        "## 5.1.2 Dot Product\n"
      ]
    },
    {
      "cell_type": "markdown",
      "metadata": {
        "id": "5uVJ3E2jtxNy"
      },
      "source": [
        " ###**What’s the geometric interpretation of the dot product of two vectors?**\n",
        "\n",
        "---\n",
        "***Resources***\n",
        "\n",
        "*  To the point: https://www.youtube.com/watch?v=c5c4gW_0Tho\n",
        "*  Some extra info: https://www.youtube.com/watch?v=NMl_dD9zPCI\n",
        "*  Nicest visuals: https://www.youtube.com/watch?v=LyGKycYT2v0\n",
        "\n",
        "\n",
        "***Simple Answer:***\n",
        "\n",
        "The geometric interpretation of the dot product is == |X||Y|cos(theta) where theta is the angle between X and Y.\n",
        "\n",
        "***Longer Answer***\n",
        "\n",
        "The dot product has the geometric interpretation as the length of the projection of X onto the unit vector Y when the two vectors are placed so that their tails coincide.\n",
        "\n",
        "To obtain the projection we multiply the magnitude of Y by cos(theta). Then we multiply that value by the magnitude of X.\n",
        "\n",
        "What happens if the vectors are othogonal? Well then cos(theta) will be zero and the dot product should be zero also. \n",
        "\n",
        "***Code Example***"
      ]
    },
    {
      "cell_type": "code",
      "metadata": {
        "colab": {
          "base_uri": "https://localhost:8080/"
        },
        "id": "NgHFPq0U44wC",
        "outputId": "b05549ab-6825-46a5-83f2-42f1aa6ebfea"
      },
      "source": [
        "import numpy as np\n",
        "  \n",
        "u = np.array([1, 2])   # vector u\n",
        "v = np.array([3, 4])   # vector v:\n",
        "\n",
        "dot_product = np.dot(u, v)\n",
        "\n",
        "print(\"dot product of v and u = \", dot_product)\n",
        "\n",
        "# more complex - find the cosine between the two vectors\n",
        "inner = np.inner(u, v)\n",
        "norms = np.linalg.norm(u) * np.linalg.norm(v)\n",
        "cos = inner / norms\n",
        "print(\"cosine = \", cos)\n",
        "\n",
        "# Get the dot product back\n",
        "dot_product = np.linalg.norm(u) * np.linalg.norm(v) * cos \n",
        "\n",
        "print(\"dot product of v and u = \", dot_product)\n",
        "\n",
        "# How about an orthogonal vector?\n",
        "u = np.array([2, 1])   # vector u\n",
        "v = np.array([1, -2])   # vector v:\n",
        "\n",
        "dot_product = np.dot(u, v)\n",
        "\n",
        "print(\"dot product of orthogonal vector = \", dot_product)\n",
        "\n",
        "\n"
      ],
      "execution_count": null,
      "outputs": [
        {
          "output_type": "stream",
          "text": [
            "dot product of v and u =  11\n",
            "cosine =  0.9838699100999074\n",
            "dot product of v and u =  11.0\n",
            "dot product of orthogonal vector =  0\n"
          ],
          "name": "stdout"
        }
      ]
    },
    {
      "cell_type": "markdown",
      "metadata": {
        "id": "Xmxii_noC7vz"
      },
      "source": [
        "###**Given a vector  u , find vector  v  of unit length such that the dot product of  u  and  v  is maximum.**\n",
        "\n",
        "---\n",
        "*TODO*\n",
        "\n"
      ]
    },
    {
      "cell_type": "markdown",
      "metadata": {
        "id": "r1-OqXCbI-9T"
      },
      "source": [
        "###**Given two vectors  a=[3,2,1]  and  b=[−1,0,1] . Calculate the outer product  aTb ?**\n",
        "\n",
        "---\n",
        "*Resources*\n",
        "\n",
        "*   Great medium article: https://towardsdatascience.com/outer-products-a-love-letter-b29a2c2c818e\n"
      ]
    },
    {
      "cell_type": "code",
      "metadata": {
        "colab": {
          "base_uri": "https://localhost:8080/"
        },
        "id": "0v_zbg_sOlZD",
        "outputId": "8c86610c-b033-4162-e0e0-9824a279db88"
      },
      "source": [
        "a = [3,2,1]\n",
        "b = [-1, 0, 1]\n",
        "\n",
        "a = np.array(a)\n",
        "b = np.array(b)\n",
        "\n",
        "# This isn't really neccessary but technically this should be a col not a row \n",
        "# vector so we'll do it anyway. A row by a col would give you the 'inner product' or 'dot product'\n",
        "aT = np.transpose(a)\n",
        "\n",
        "# The outer gives us a 3 * 3 matrix\n",
        "\n",
        "#  [a1*b1, a1*b2, a1*b3]\n",
        "#  [a2*b1, a2*b2, a2*b3]\n",
        "#  [a3*b1, a3*b2, a3*b3]\n",
        "\n",
        "print(np.outer(aT, b))"
      ],
      "execution_count": null,
      "outputs": [
        {
          "output_type": "stream",
          "text": [
            "[[-3  0  3]\n",
            " [-2  0  2]\n",
            " [-1  0  1]]\n"
          ],
          "name": "stdout"
        }
      ]
    },
    {
      "cell_type": "markdown",
      "metadata": {
        "id": "kV4hRnw2KW6O"
      },
      "source": [
        "###**Why is the outer product useful in ML?**\n",
        "\n",
        "---\n",
        "\n",
        "TODO\n",
        "\n",
        "\n"
      ]
    },
    {
      "cell_type": "markdown",
      "metadata": {
        "id": "YxxlT625Uyj7"
      },
      "source": [
        "### **What does it mean for two vectors to be linearly independent?**\n",
        "\n",
        "---\n",
        "\n",
        "***Resources***\n",
        "\n",
        "*   Strang - best vid imho https://www.youtube.com/watch?v=eeMJg4uI7o0\n",
        "\n",
        "*   Khan academy video https://www.khanacademy.org/math/linear-algebra/vectors-and-spaces/linear-independence/v/more-on-linear-independence\n",
        "\n",
        "*   More visual explanation: https://www.youtube.com/watch?v=L1ErFhSxIew \n",
        "\n",
        "***Simple Answer***\n",
        "\n",
        "Vectors are linearly dependant when c1v1, c2v2, ... cnvn != 0 (As long as c != 0 also)\n",
        "\n",
        "***Longer Answer***\n",
        "\n",
        "A set can be considered linearly dependant - if one of the vectors can be represented by some combination of the other vectors. \n",
        "   \n",
        "Another way to think about it is if a vector breaks out of the other vectors span - it can be considered linearly independant. Consider two vectors create a plane in space. Any other vector added to that plane will be lineary dependant - as if you removed that vector the plane would still exist. A linearly independant vector would make the space 3-Dimensional. If you removed that vector the space would change.\n",
        "\n",
        "If you removed all the dependant vectors that are not needed to define the space - you are left with the basis for the space. \n",
        "\n",
        "If you only have two vectors - you can check for linear dependance if you can obtain one of the vectors by multiplying the other by a scalar. \n",
        "\n",
        "***Code Example***\n"
      ]
    },
    {
      "cell_type": "code",
      "metadata": {
        "colab": {
          "base_uri": "https://localhost:8080/",
          "height": 286
        },
        "id": "joy0EQTyO7-v",
        "outputId": "074ef5cd-8a90-49d0-ef24-656f462116f5"
      },
      "source": [
        "import numpy as np\n",
        "import matplotlib.pyplot as plt\n",
        "# Simple example\n",
        "\n",
        "u = [1, 3]\n",
        "v = [2, 6]\n",
        "\n",
        "u = np.array(u)\n",
        "v = np.array(v)\n",
        "\n",
        "v = 2 * u   \n",
        "\n",
        "print(2*u) # Linear dependancy! \n",
        "\n",
        "\n",
        "# A visual example\n",
        "# Stolen from: https://hadrienj.github.io/posts/Deep-Learning-Book-Series-2.4-Linear-Dependence-and-Span/\n",
        "# We would like to go to b but the only path we can take is the blue/orange line. \n",
        "# The second equation doesn’t provide us with a new direction to take since it is just a linear combination of the first one.\n",
        "# Thus, an overdetermined system of independant equations has at most 1 solution.\n",
        "\n",
        "u = [0,0,2,2]\n",
        "v = [0,0,-1,-1]\n",
        "\n",
        "plt.quiver([u[0], v[0]],\n",
        "           [u[1], v[1]],\n",
        "           [u[2], v[2]],\n",
        "           [u[3], v[3]],\n",
        "           angles='xy', scale_units='xy', scale=1, color=[\"blue\", \"orange\"])\n",
        "\n",
        "plt.xlim(-7, 3)\n",
        "plt.ylim(-2, 3)\n",
        "\n",
        "# draw axes\n",
        "plt.axvline(x=0, color='#A9A9A9')\n",
        "plt.axhline(y=0, color='#A9A9A9')\n",
        "plt.scatter(-6,0,marker='x',s=150)\n",
        "plt.text(-6, 0.5, r'$b$', color='b', size=18)\n",
        "plt.show()\n",
        "plt.close()\n"
      ],
      "execution_count": null,
      "outputs": [
        {
          "output_type": "stream",
          "name": "stdout",
          "text": [
            "[2 6]\n"
          ]
        },
        {
          "output_type": "display_data",
          "data": {
            "image/png": "[encoded data removed]",
            "text/plain": [
              "<Figure size 432x288 with 1 Axes>"
            ]
          },
          "metadata": {
            "needs_background": "light"
          }
        }
      ]
    },
    {
      "cell_type": "markdown",
      "metadata": {
        "id": "IbuWOErssxbf"
      },
      "source": [
        "### ***Given two sets of vectors  A=a1,a2,a3,...,an  and  B=b1,b2,b3,...,bm . \n",
        "\n",
        "1.   List item\n",
        "2.   List item\n",
        "\n",
        "How do you check that they share the same basis?***\n",
        "\n",
        "---\n",
        "\n",
        "The basis is a set of all linearly independant vectors that span. \n",
        "\n",
        "If you check above we can see if all the vectors are linearly independant than a c1v1 + c2v2 + c3v3 == 0. \n",
        "\n"
      ]
    },
    {
      "cell_type": "code",
      "metadata": {
        "id": "4c9xrj33N4_G"
      },
      "source": [
        "import numpy as np\n",
        "\n",
        "i = [1, 0, -1]\n",
        "j = [2, 5, 1]\n",
        "k = [\"k1\", \"k2\", \"k3\"]\n",
        "\n",
        "a1 * lambda\n",
        "\n",
        "# solve for any k\n",
        "# if any k != 0 then they do not span\n",
        "# if they do not span then they are not from the same basis. \n",
        "\n",
        "\n"
      ],
      "execution_count": null,
      "outputs": []
    },
    {
      "cell_type": "markdown",
      "source": [
        "# New section"
      ],
      "metadata": {
        "id": "vO-ThRW3A8rh"
      }
    },
    {
      "cell_type": "markdown",
      "source": [
        "### **Given n vectors, each of  d  dimensions. What is the dimension of their span?**\n",
        "---\n",
        "\n",
        "The span of a vector is determined by the dimensional space it can occupy when multiplied by a scalar. If you have 4 vectors of 2 dimension, the dimension of the span will be equal to the largest dimension of any of the vectors. \n"
      ],
      "metadata": {
        "id": "B341-TAg5J3y"
      }
    },
    {
      "cell_type": "markdown",
      "metadata": {
        "id": "JNI05ntZ5t-b"
      },
      "source": [
        "# 6.1 Algorithms"
      ]
    },
    {
      "cell_type": "markdown",
      "metadata": {
        "id": "F86KIl-B5_Fg"
      },
      "source": [
        "### ***Write a Python function to recursively read a JSON file***\n",
        "\n",
        "\n",
        "---"
      ]
    },
    {
      "cell_type": "code",
      "metadata": {
        "colab": {
          "base_uri": "https://localhost:8080/"
        },
        "id": "bHRsBhkQ6L-T",
        "outputId": "6d7b4837-cc1d-4bd6-ec05-529468d569ed"
      },
      "source": [
        "import json\n",
        "\n",
        "json_stuff = {\n",
        "  \"links\": {\n",
        "    \"self\": \"/articles/1/relationships/author\",\n",
        "    \"related\": \"/articles/1/author\"\n",
        "  },\n",
        "  \"data\": {\n",
        "    \"type\": \"people\",\n",
        "    \"id\": \"12\"\n",
        "  }\n",
        "}\n",
        "\n",
        "json_object = json.dumps(json_stuff, indent = 4)  \n",
        "\n",
        "def json_extract(obj, key):\n",
        "    \"\"\"Recursively fetch values from nested JSON.\"\"\"\n",
        "    arr = []\n",
        "\n",
        "    def extract(obj, arr, key):\n",
        "        \"\"\"Recursively search for values of key in JSON tree.\"\"\"\n",
        "        if isinstance(obj, dict):\n",
        "            for k, v in obj.items():\n",
        "                if isinstance(v, (dict, list)):\n",
        "                    extract(v, arr, key)\n",
        "                elif k == key:\n",
        "                    arr.append(v)\n",
        "        elif isinstance(obj, list):\n",
        "            for item in obj:\n",
        "                extract(item, arr, key)\n",
        "        return arr\n",
        "\n",
        "    values = extract(obj, arr, key)\n",
        "    return values\n",
        "\n",
        "x = json_extract(json_object, \"links\" )\n",
        "print(x)"
      ],
      "execution_count": null,
      "outputs": [
        {
          "output_type": "stream",
          "name": "stdout",
          "text": [
            "[]\n"
          ]
        }
      ]
    },
    {
      "cell_type": "markdown",
      "metadata": {
        "id": "3Sb33bjG58fv"
      },
      "source": [
        "### ***Implement a sorting algorithm, quick sort or merge***\n",
        "---\n"
      ]
    },
    {
      "cell_type": "code",
      "metadata": {
        "colab": {
          "base_uri": "https://localhost:8080/",
          "height": 374
        },
        "id": "f0qPigh0E3dm",
        "outputId": "8bda78f2-dd6b-4e8e-8da6-028f2bed622c"
      },
      "source": [
        "tbsorted = [3, 1, 10, 5, 8, 6]\n",
        "\n",
        "def split(arr, low, high):\n",
        "    pivot = arr[high]\n",
        "    low_l = []\n",
        "    high_l = []\n",
        "    for i in arr:\n",
        "        if i < 6:\n",
        "            low_l.append(i)\n",
        "        else:\n",
        "            high_l.append(i)\n",
        "    print(low_l)\n",
        "    print(high_l)\n",
        "\n",
        "split(tbsorted, 0, len(tbsorted)-1)"
      ],
      "execution_count": null,
      "outputs": [
        {
          "output_type": "error",
          "ename": "RecursionError",
          "evalue": "ignored",
          "traceback": [
            "\u001b[0;31m---------------------------------------------------------------------------\u001b[0m",
            "\u001b[0;31mRecursionError\u001b[0m                            Traceback (most recent call last)",
            "\u001b[0;32m<ipython-input-21-51ebf4ab373b>\u001b[0m in \u001b[0;36m<module>\u001b[0;34m()\u001b[0m\n\u001b[1;32m     14\u001b[0m     \u001b[0mprint\u001b[0m\u001b[0;34m(\u001b[0m\u001b[0mhigh_l\u001b[0m\u001b[0;34m)\u001b[0m\u001b[0;34m\u001b[0m\u001b[0;34m\u001b[0m\u001b[0m\n\u001b[1;32m     15\u001b[0m \u001b[0;34m\u001b[0m\u001b[0m\n\u001b[0;32m---> 16\u001b[0;31m \u001b[0msplit\u001b[0m\u001b[0;34m(\u001b[0m\u001b[0mtbsorted\u001b[0m\u001b[0;34m,\u001b[0m \u001b[0;36m0\u001b[0m\u001b[0;34m,\u001b[0m \u001b[0mlen\u001b[0m\u001b[0;34m(\u001b[0m\u001b[0mtbsorted\u001b[0m\u001b[0;34m)\u001b[0m\u001b[0;34m-\u001b[0m\u001b[0;36m1\u001b[0m\u001b[0;34m)\u001b[0m\u001b[0;34m\u001b[0m\u001b[0;34m\u001b[0m\u001b[0m\n\u001b[0m",
            "\u001b[0;32m<ipython-input-21-51ebf4ab373b>\u001b[0m in \u001b[0;36msplit\u001b[0;34m(arr, low, high)\u001b[0m\n\u001b[1;32m     10\u001b[0m         \u001b[0;32melse\u001b[0m\u001b[0;34m:\u001b[0m\u001b[0;34m\u001b[0m\u001b[0;34m\u001b[0m\u001b[0m\n\u001b[1;32m     11\u001b[0m             \u001b[0mhigh_l\u001b[0m\u001b[0;34m.\u001b[0m\u001b[0mappend\u001b[0m\u001b[0;34m(\u001b[0m\u001b[0mi\u001b[0m\u001b[0;34m)\u001b[0m\u001b[0;34m\u001b[0m\u001b[0;34m\u001b[0m\u001b[0m\n\u001b[0;32m---> 12\u001b[0;31m     \u001b[0msplit\u001b[0m\u001b[0;34m(\u001b[0m\u001b[0mlow_l\u001b[0m\u001b[0;34m,\u001b[0m \u001b[0;36m0\u001b[0m\u001b[0;34m,\u001b[0m \u001b[0mlen\u001b[0m\u001b[0;34m(\u001b[0m\u001b[0mlow_l\u001b[0m\u001b[0;34m)\u001b[0m\u001b[0;34m-\u001b[0m\u001b[0;36m1\u001b[0m\u001b[0;34m)\u001b[0m\u001b[0;34m\u001b[0m\u001b[0;34m\u001b[0m\u001b[0m\n\u001b[0m\u001b[1;32m     13\u001b[0m     \u001b[0mprint\u001b[0m\u001b[0;34m(\u001b[0m\u001b[0mlow_l\u001b[0m\u001b[0;34m)\u001b[0m\u001b[0;34m\u001b[0m\u001b[0;34m\u001b[0m\u001b[0m\n\u001b[1;32m     14\u001b[0m     \u001b[0mprint\u001b[0m\u001b[0;34m(\u001b[0m\u001b[0mhigh_l\u001b[0m\u001b[0;34m)\u001b[0m\u001b[0;34m\u001b[0m\u001b[0;34m\u001b[0m\u001b[0m\n",
            "... last 1 frames repeated, from the frame below ...\n",
            "\u001b[0;32m<ipython-input-21-51ebf4ab373b>\u001b[0m in \u001b[0;36msplit\u001b[0;34m(arr, low, high)\u001b[0m\n\u001b[1;32m     10\u001b[0m         \u001b[0;32melse\u001b[0m\u001b[0;34m:\u001b[0m\u001b[0;34m\u001b[0m\u001b[0;34m\u001b[0m\u001b[0m\n\u001b[1;32m     11\u001b[0m             \u001b[0mhigh_l\u001b[0m\u001b[0;34m.\u001b[0m\u001b[0mappend\u001b[0m\u001b[0;34m(\u001b[0m\u001b[0mi\u001b[0m\u001b[0;34m)\u001b[0m\u001b[0;34m\u001b[0m\u001b[0;34m\u001b[0m\u001b[0m\n\u001b[0;32m---> 12\u001b[0;31m     \u001b[0msplit\u001b[0m\u001b[0;34m(\u001b[0m\u001b[0mlow_l\u001b[0m\u001b[0;34m,\u001b[0m \u001b[0;36m0\u001b[0m\u001b[0;34m,\u001b[0m \u001b[0mlen\u001b[0m\u001b[0;34m(\u001b[0m\u001b[0mlow_l\u001b[0m\u001b[0;34m)\u001b[0m\u001b[0;34m-\u001b[0m\u001b[0;36m1\u001b[0m\u001b[0;34m)\u001b[0m\u001b[0;34m\u001b[0m\u001b[0;34m\u001b[0m\u001b[0m\n\u001b[0m\u001b[1;32m     13\u001b[0m     \u001b[0mprint\u001b[0m\u001b[0;34m(\u001b[0m\u001b[0mlow_l\u001b[0m\u001b[0;34m)\u001b[0m\u001b[0;34m\u001b[0m\u001b[0;34m\u001b[0m\u001b[0m\n\u001b[1;32m     14\u001b[0m     \u001b[0mprint\u001b[0m\u001b[0;34m(\u001b[0m\u001b[0mhigh_l\u001b[0m\u001b[0;34m)\u001b[0m\u001b[0;34m\u001b[0m\u001b[0;34m\u001b[0m\u001b[0m\n",
            "\u001b[0;31mRecursionError\u001b[0m: maximum recursion depth exceeded in comparison"
          ]
        }
      ]
    },
    {
      "cell_type": "markdown",
      "source": [
        "# ML Theory\n"
      ],
      "metadata": {
        "id": "S4Fsm0WsBG0f"
      }
    },
    {
      "cell_type": "markdown",
      "source": [
        "### Explain Batch Norm\n",
        "\n",
        "Normalisation is used to bring the mean of the data to zero and the deviation to 1. \n",
        "\n",
        "1.   Large values saturate activation functions\n",
        "2.   Inner products are smaller when data in normalised\n",
        "3.   Gives equal consideration for each feature. \n",
        "activation functions\n",
        "Inner products are smaller when data is normalised\n",
        "Gives equal consideration for each feature\n",
        "\n",
        "Batch norm will use a mini batch to subtract the mean and divide by the standard deviation of the batch. \n",
        "This norm now needs to ensure it can represent the identity. \n",
        "To do this we add a scalar beta and gamma which learns to scale and shift after the normalisation. This basically learns to scale the distribution. \n",
        "The beta is a bias parameter so we don’t need to include bias in the fully connected layer before. \n",
        "We keep averages so that at test time we dont need to depend on the mini batch. \n"
      ],
      "metadata": {
        "id": "z7HjY5_kBLUA"
      }
    }
  ]
}